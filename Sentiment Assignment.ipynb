{
 "cells": [
  {
   "cell_type": "markdown",
   "id": "7f79baf9",
   "metadata": {},
   "source": [
    "# ADS 509 Sentiment Assignment\n",
    "\n",
    "This notebook holds the Sentiment Assignment for Module 6 in ADS 509, Applied Text Mining. Work through this notebook, writing code and answering questions where required. \n",
    "\n",
    "In a previous assignment you put together Twitter data and lyrics data on two artists. In this assignment we apply sentiment analysis to those data sets. If, for some reason, you did not complete that previous assignment, data to use for this assignment can be found in the assignment materials section of Blackboard. \n"
   ]
  },
  {
   "cell_type": "markdown",
   "id": "aae8e2e1",
   "metadata": {},
   "source": [
    "## General Assignment Instructions\n",
    "\n",
    "These instructions are included in every assignment, to remind you of the coding standards for the class. Feel free to delete this cell after reading it. \n",
    "\n",
    "One sign of mature code is conforming to a style guide. We recommend the [Google Python Style Guide](https://google.github.io/styleguide/pyguide.html). If you use a different style guide, please include a cell with a link. \n",
    "\n",
    "Your code should be relatively easy-to-read, sensibly commented, and clean. Writing code is a messy process, so please be sure to edit your final submission. Remove any cells that are not needed or parts of cells that contain unnecessary code. Remove inessential `import` statements and make sure that all such statements are moved into the designated cell. \n",
    "\n",
    "Make use of non-code cells for written commentary. These cells should be grammatical and clearly written. In some of these cells you will have questions to answer. The questions will be marked by a \"Q:\" and will have a corresponding \"A:\" spot for you. *Make sure to answer every question marked with a `Q:` for full credit.* \n"
   ]
  },
  {
   "cell_type": "code",
   "execution_count": 1,
   "id": "e2d096b7",
   "metadata": {},
   "outputs": [],
   "source": [
    "import os\n",
    "import re\n",
    "import emoji\n",
    "import pandas as pd\n",
    "import numpy as np\n",
    "\n",
    "from collections import Counter, defaultdict\n",
    "from string import punctuation\n",
    "\n",
    "from nltk.corpus import stopwords\n",
    "\n",
    "sw = stopwords.words(\"english\")"
   ]
  },
  {
   "cell_type": "code",
   "execution_count": 158,
   "id": "6b555ab2",
   "metadata": {},
   "outputs": [],
   "source": [
    "# Add any additional import statements you need here\n",
    "import emoji\n",
    "import seaborn as sns\n",
    "import matplotlib.pyplot as plt"
   ]
  },
  {
   "cell_type": "code",
   "execution_count": 4,
   "id": "923b5a86",
   "metadata": {},
   "outputs": [],
   "source": [
    "# change `data_location` to the location of the folder on your machine.\n",
    "data_location = \"/Users/han/Desktop/USD/ADS 509/ADS509-Week1/\"\n",
    "\n",
    "# These subfolders should still work if you correctly stored the \n",
    "# data from the Module 1 assignment\n",
    "twitter_folder = \"twitter/\"\n",
    "lyrics_folder = \"lyrics/\"\n",
    "\n",
    "positive_words_file = \"positive-words.txt\"\n",
    "negative_words_file = \"negative-words.txt\"\n",
    "tidy_text_file = \"tidytext_sentiments.txt\""
   ]
  },
  {
   "cell_type": "markdown",
   "id": "9d3bf93e",
   "metadata": {},
   "source": [
    "## Data Input\n",
    "\n",
    "Now read in each of the corpora. For the lyrics data, it may be convenient to store the entire contents of the file to make it easier to inspect the titles individually, as you'll do in the last part of the assignment. In the solution, I stored the lyrics data in a dictionary with two dimensions of keys: artist and song. The value was the file contents. A Pandas data frame would work equally well. \n",
    "\n",
    "For the Twitter data, we only need the description field for this assignment. Feel free all the descriptions read it into a data structure. In the solution, I stored the descriptions as a dictionary of lists, with the key being the artist. \n",
    "\n",
    "\n"
   ]
  },
  {
   "cell_type": "code",
   "execution_count": 22,
   "id": "92ad926c-e002-428e-8bef-f90cf9a7370e",
   "metadata": {},
   "outputs": [
    {
     "data": {
      "text/html": [
       "<div>\n",
       "<style scoped>\n",
       "    .dataframe tbody tr th:only-of-type {\n",
       "        vertical-align: middle;\n",
       "    }\n",
       "\n",
       "    .dataframe tbody tr th {\n",
       "        vertical-align: top;\n",
       "    }\n",
       "\n",
       "    .dataframe thead th {\n",
       "        text-align: right;\n",
       "    }\n",
       "</style>\n",
       "<table border=\"1\" class=\"dataframe\">\n",
       "  <thead>\n",
       "    <tr style=\"text-align: right;\">\n",
       "      <th></th>\n",
       "      <th>artist</th>\n",
       "      <th>title</th>\n",
       "      <th>lyric</th>\n",
       "    </tr>\n",
       "  </thead>\n",
       "  <tbody>\n",
       "    <tr>\n",
       "      <th>0</th>\n",
       "      <td>eminem</td>\n",
       "      <td>Rap God</td>\n",
       "      <td>Look, I was gonna go easy on you not to hurt y...</td>\n",
       "    </tr>\n",
       "    <tr>\n",
       "      <th>1</th>\n",
       "      <td>eminem</td>\n",
       "      <td>Hellbound (H&amp;H Remix)</td>\n",
       "      <td>Welcome back to the stage of history  (Yo, Sli...</td>\n",
       "    </tr>\n",
       "    <tr>\n",
       "      <th>2</th>\n",
       "      <td>eminem</td>\n",
       "      <td>Infinite</td>\n",
       "      <td>Aw, yeah (It's like this, like this) It's Emin...</td>\n",
       "    </tr>\n",
       "    <tr>\n",
       "      <th>3</th>\n",
       "      <td>eminem</td>\n",
       "      <td>So Bad</td>\n",
       "      <td>Yeah, haha, you feel that, baby? Yeah, I feel ...</td>\n",
       "    </tr>\n",
       "    <tr>\n",
       "      <th>4</th>\n",
       "      <td>eminem</td>\n",
       "      <td>The King And I</td>\n",
       "      <td>It goes: one for the trailer park, two for my ...</td>\n",
       "    </tr>\n",
       "  </tbody>\n",
       "</table>\n",
       "</div>"
      ],
      "text/plain": [
       "   artist                  title  \\\n",
       "0  eminem                Rap God   \n",
       "1  eminem  Hellbound (H&H Remix)   \n",
       "2  eminem               Infinite   \n",
       "3  eminem                 So Bad   \n",
       "4  eminem         The King And I   \n",
       "\n",
       "                                               lyric  \n",
       "0  Look, I was gonna go easy on you not to hurt y...  \n",
       "1  Welcome back to the stage of history  (Yo, Sli...  \n",
       "2  Aw, yeah (It's like this, like this) It's Emin...  \n",
       "3  Yeah, haha, you feel that, baby? Yeah, I feel ...  \n",
       "4  It goes: one for the trailer park, two for my ...  "
      ]
     },
     "execution_count": 22,
     "metadata": {},
     "output_type": "execute_result"
    }
   ],
   "source": [
    "lyrics_path = os.path.join(data_location, lyrics_folder)\n",
    "\n",
    "artists = [x for x in os.listdir(lyrics_path) if 'ipynb' not in x]\n",
    "\n",
    "lyrics = pd.DataFrame(columns=['artist', 'title', 'lyric'])\n",
    "\n",
    "for artist in artists:\n",
    "    \n",
    "    path = os.path.join(data_location, lyrics_folder, artist)\n",
    "    \n",
    "    for file in os.listdir(path):\n",
    "        \n",
    "        if 'txt' not in file:\n",
    "            continue\n",
    "            \n",
    "        song_path = os.path.join(path, file)\n",
    "        \n",
    "        with open(song_path, 'r') as file:\n",
    "            song = file.readlines()\n",
    "            \n",
    "        title = song[0].replace('\\n', '').strip()\n",
    "        \n",
    "        lyric = song[1:]\n",
    "        lyric = ' '.join(lyric)\n",
    "        lyric = lyric.replace('\\n', '').strip()\n",
    "        \n",
    "        lyrics = pd.concat([lyrics, pd.DataFrame({\n",
    "                                        'artist':artist,\n",
    "                                        'title':title,\n",
    "                                        'lyric':lyric\n",
    "                                    }, index=[0])], ignore_index=True)\n",
    "        \n",
    "lyrics.head()"
   ]
  },
  {
   "cell_type": "code",
   "execution_count": 31,
   "id": "508bcc6f-74c1-431f-bce0-f46a695c769f",
   "metadata": {},
   "outputs": [
    {
     "data": {
      "text/html": [
       "<div>\n",
       "<style scoped>\n",
       "    .dataframe tbody tr th:only-of-type {\n",
       "        vertical-align: middle;\n",
       "    }\n",
       "\n",
       "    .dataframe tbody tr th {\n",
       "        vertical-align: top;\n",
       "    }\n",
       "\n",
       "    .dataframe thead th {\n",
       "        text-align: right;\n",
       "    }\n",
       "</style>\n",
       "<table border=\"1\" class=\"dataframe\">\n",
       "  <thead>\n",
       "    <tr style=\"text-align: right;\">\n",
       "      <th></th>\n",
       "      <th>artist</th>\n",
       "      <th>title</th>\n",
       "      <th>lyric</th>\n",
       "    </tr>\n",
       "  </thead>\n",
       "  <tbody>\n",
       "    <tr>\n",
       "      <th>927</th>\n",
       "      <td>snoopdogg</td>\n",
       "      <td>Toyz N Da Hood</td>\n",
       "      <td>[Intro: Snoop Dogg - downsampled] What's happe...</td>\n",
       "    </tr>\n",
       "    <tr>\n",
       "      <th>928</th>\n",
       "      <td>snoopdogg</td>\n",
       "      <td>Cool</td>\n",
       "      <td>[Nate Dogg] Just yesterday I had to turn a bit...</td>\n",
       "    </tr>\n",
       "    <tr>\n",
       "      <th>929</th>\n",
       "      <td>snoopdogg</td>\n",
       "      <td>(O.J.) Wake Up</td>\n",
       "      <td>[Intro:]  [Snoop]  Yeah man, this shit here go...</td>\n",
       "    </tr>\n",
       "    <tr>\n",
       "      <th>930</th>\n",
       "      <td>snoopdogg</td>\n",
       "      <td>My Medicine</td>\n",
       "      <td>(One, two...)  [Intro: Snoop] Yeah, I like to ...</td>\n",
       "    </tr>\n",
       "    <tr>\n",
       "      <th>931</th>\n",
       "      <td>snoopdogg</td>\n",
       "      <td>Murder Was The Case (DeathAfterVisualizingEter...</td>\n",
       "      <td>[Intro: (Mista Grimm's \"Indo Smoke\" plays in t...</td>\n",
       "    </tr>\n",
       "  </tbody>\n",
       "</table>\n",
       "</div>"
      ],
      "text/plain": [
       "        artist                                              title  \\\n",
       "927  snoopdogg                                     Toyz N Da Hood   \n",
       "928  snoopdogg                                               Cool   \n",
       "929  snoopdogg                                     (O.J.) Wake Up   \n",
       "930  snoopdogg                                        My Medicine   \n",
       "931  snoopdogg  Murder Was The Case (DeathAfterVisualizingEter...   \n",
       "\n",
       "                                                 lyric  \n",
       "927  [Intro: Snoop Dogg - downsampled] What's happe...  \n",
       "928  [Nate Dogg] Just yesterday I had to turn a bit...  \n",
       "929  [Intro:]  [Snoop]  Yeah man, this shit here go...  \n",
       "930  (One, two...)  [Intro: Snoop] Yeah, I like to ...  \n",
       "931  [Intro: (Mista Grimm's \"Indo Smoke\" plays in t...  "
      ]
     },
     "execution_count": 31,
     "metadata": {},
     "output_type": "execute_result"
    }
   ],
   "source": [
    "lyrics.tail()"
   ]
  },
  {
   "cell_type": "code",
   "execution_count": null,
   "id": "6b55514a-c99f-4ff1-9568-0550e6aae2e9",
   "metadata": {},
   "outputs": [],
   "source": [
    "artists = [x for x in os.listdir(os.path.join(data_location, twitter_folder)) if 'ipynb' not in x]\n",
    "artists = [x for x in artists if 'follower_data' in x]\n",
    "\n",
    "twitter = pd.DataFrame()\n",
    "\n",
    "for artist in artists:\n",
    "    \n",
    "    temp = pd.read_csv(os.path.join(twitter_folder, artist), sep='\\t')\n",
    "    temp['artist'] = artist.replace('_follower_data.txt', '').lower()\n",
    "    \n",
    "    twitter = pd.concat([twitter, temp], ignore_index=True)\n",
    "    \n",
    "twitter.head()"
   ]
  },
  {
   "cell_type": "code",
   "execution_count": 29,
   "id": "debcac5a",
   "metadata": {},
   "outputs": [
    {
     "data": {
      "text/html": [
       "<div>\n",
       "<style scoped>\n",
       "    .dataframe tbody tr th:only-of-type {\n",
       "        vertical-align: middle;\n",
       "    }\n",
       "\n",
       "    .dataframe tbody tr th {\n",
       "        vertical-align: top;\n",
       "    }\n",
       "\n",
       "    .dataframe thead th {\n",
       "        text-align: right;\n",
       "    }\n",
       "</style>\n",
       "<table border=\"1\" class=\"dataframe\">\n",
       "  <thead>\n",
       "    <tr style=\"text-align: right;\">\n",
       "      <th></th>\n",
       "      <th>screen_name</th>\n",
       "      <th>name</th>\n",
       "      <th>id</th>\n",
       "      <th>location</th>\n",
       "      <th>followers_count</th>\n",
       "      <th>friends_count</th>\n",
       "      <th>description</th>\n",
       "      <th>artist</th>\n",
       "    </tr>\n",
       "  </thead>\n",
       "  <tbody>\n",
       "    <tr>\n",
       "      <th>0</th>\n",
       "      <td>Tarik_k16</td>\n",
       "      <td>Tarık Keleş</td>\n",
       "      <td>1251272999497588736</td>\n",
       "      <td>Muhtemelen İstanbul</td>\n",
       "      <td>18</td>\n",
       "      <td>138</td>\n",
       "      <td>Boun, Muhendis, temel bilimci, matematik asigi...</td>\n",
       "      <td>eminem</td>\n",
       "    </tr>\n",
       "    <tr>\n",
       "      <th>1</th>\n",
       "      <td>jisin_hatten</td>\n",
       "      <td>YZ//skrrrr</td>\n",
       "      <td>1453690241022193670</td>\n",
       "      <td>日本 東京</td>\n",
       "      <td>1</td>\n",
       "      <td>43</td>\n",
       "      <td>#邦楽 #洋楽 #HIPHOP #レゲエ #R&amp;B #EDM #Rock #Eminem</td>\n",
       "      <td>eminem</td>\n",
       "    </tr>\n",
       "    <tr>\n",
       "      <th>2</th>\n",
       "      <td>zemy09631379</td>\n",
       "      <td>zemy</td>\n",
       "      <td>1336382129131778048</td>\n",
       "      <td>NaN</td>\n",
       "      <td>0</td>\n",
       "      <td>16</td>\n",
       "      <td>NaN</td>\n",
       "      <td>eminem</td>\n",
       "    </tr>\n",
       "    <tr>\n",
       "      <th>3</th>\n",
       "      <td>MaggieWee22</td>\n",
       "      <td>Maggie Wee</td>\n",
       "      <td>1362042628624187393</td>\n",
       "      <td>NaN</td>\n",
       "      <td>1</td>\n",
       "      <td>165</td>\n",
       "      <td>NaN</td>\n",
       "      <td>eminem</td>\n",
       "    </tr>\n",
       "    <tr>\n",
       "      <th>4</th>\n",
       "      <td>NameIsGuyBTW</td>\n",
       "      <td>HiMyNameIsGuy456</td>\n",
       "      <td>1519110907967770625</td>\n",
       "      <td>NaN</td>\n",
       "      <td>0</td>\n",
       "      <td>16</td>\n",
       "      <td>NaN</td>\n",
       "      <td>eminem</td>\n",
       "    </tr>\n",
       "  </tbody>\n",
       "</table>\n",
       "</div>"
      ],
      "text/plain": [
       "    screen_name              name                   id             location  \\\n",
       "0     Tarik_k16       Tarık Keleş  1251272999497588736  Muhtemelen İstanbul   \n",
       "1  jisin_hatten        YZ//skrrrr  1453690241022193670                日本 東京   \n",
       "2  zemy09631379              zemy  1336382129131778048                  NaN   \n",
       "3   MaggieWee22        Maggie Wee  1362042628624187393                  NaN   \n",
       "4  NameIsGuyBTW  HiMyNameIsGuy456  1519110907967770625                  NaN   \n",
       "\n",
       "   followers_count  friends_count  \\\n",
       "0               18            138   \n",
       "1                1             43   \n",
       "2                0             16   \n",
       "3                1            165   \n",
       "4                0             16   \n",
       "\n",
       "                                         description  artist  \n",
       "0  Boun, Muhendis, temel bilimci, matematik asigi...  eminem  \n",
       "1       #邦楽 #洋楽 #HIPHOP #レゲエ #R&B #EDM #Rock #Eminem  eminem  \n",
       "2                                                NaN  eminem  \n",
       "3                                                NaN  eminem  \n",
       "4                                                NaN  eminem  "
      ]
     },
     "execution_count": 29,
     "metadata": {},
     "output_type": "execute_result"
    }
   ],
   "source": [
    "twitter_path = os.path.join(data_location, twitter_folder)\n",
    "\n",
    "twitter = pd.DataFrame()\n",
    "\n",
    "for artist in artists:\n",
    "    \n",
    "    file_path = [x for x in os.listdir(twitter_path) if artist in x.lower() and 'data' in x][0]\n",
    "    temp = pd.read_csv(os.path.join(twitter_path, file_path), sep='\\t')\n",
    "    temp['artist'] = artist.replace('_follower_data.txt', '').lower()\n",
    "    \n",
    "    twitter = pd.concat([twitter, temp], ignore_index=True)\n",
    "    \n",
    "twitter.head()"
   ]
  },
  {
   "cell_type": "code",
   "execution_count": 30,
   "id": "3172f253-6cf9-49ef-b229-848ddef94aeb",
   "metadata": {},
   "outputs": [
    {
     "data": {
      "text/html": [
       "<div>\n",
       "<style scoped>\n",
       "    .dataframe tbody tr th:only-of-type {\n",
       "        vertical-align: middle;\n",
       "    }\n",
       "\n",
       "    .dataframe tbody tr th {\n",
       "        vertical-align: top;\n",
       "    }\n",
       "\n",
       "    .dataframe thead th {\n",
       "        text-align: right;\n",
       "    }\n",
       "</style>\n",
       "<table border=\"1\" class=\"dataframe\">\n",
       "  <thead>\n",
       "    <tr style=\"text-align: right;\">\n",
       "      <th></th>\n",
       "      <th>screen_name</th>\n",
       "      <th>name</th>\n",
       "      <th>id</th>\n",
       "      <th>location</th>\n",
       "      <th>followers_count</th>\n",
       "      <th>friends_count</th>\n",
       "      <th>description</th>\n",
       "      <th>artist</th>\n",
       "    </tr>\n",
       "  </thead>\n",
       "  <tbody>\n",
       "    <tr>\n",
       "      <th>119769</th>\n",
       "      <td>buduzere</td>\n",
       "      <td>Buduzere</td>\n",
       "      <td>1525987090772676608</td>\n",
       "      <td>NaN</td>\n",
       "      <td>0</td>\n",
       "      <td>57</td>\n",
       "      <td>Living my best life</td>\n",
       "      <td>snoopdogg</td>\n",
       "    </tr>\n",
       "    <tr>\n",
       "      <th>119770</th>\n",
       "      <td>njosh_jon</td>\n",
       "      <td>Jon Njosh</td>\n",
       "      <td>1520303800292192256</td>\n",
       "      <td>NaN</td>\n",
       "      <td>0</td>\n",
       "      <td>87</td>\n",
       "      <td>Fashionister</td>\n",
       "      <td>snoopdogg</td>\n",
       "    </tr>\n",
       "    <tr>\n",
       "      <th>119771</th>\n",
       "      <td>Mariah367561791</td>\n",
       "      <td>Mariah</td>\n",
       "      <td>1527578448197214209</td>\n",
       "      <td>NaN</td>\n",
       "      <td>1</td>\n",
       "      <td>4</td>\n",
       "      <td>NaN</td>\n",
       "      <td>snoopdogg</td>\n",
       "    </tr>\n",
       "    <tr>\n",
       "      <th>119772</th>\n",
       "      <td>puangorp</td>\n",
       "      <td>P.</td>\n",
       "      <td>1398535348636905475</td>\n",
       "      <td>NaN</td>\n",
       "      <td>3</td>\n",
       "      <td>235</td>\n",
       "      <td>NaN</td>\n",
       "      <td>snoopdogg</td>\n",
       "    </tr>\n",
       "    <tr>\n",
       "      <th>119773</th>\n",
       "      <td>sombre_symphony</td>\n",
       "      <td>Sombre_symphony</td>\n",
       "      <td>1527163605325578240</td>\n",
       "      <td>NaN</td>\n",
       "      <td>23</td>\n",
       "      <td>170</td>\n",
       "      <td>«I was looking for love and found myself»</td>\n",
       "      <td>snoopdogg</td>\n",
       "    </tr>\n",
       "  </tbody>\n",
       "</table>\n",
       "</div>"
      ],
      "text/plain": [
       "            screen_name             name                   id location  \\\n",
       "119769         buduzere         Buduzere  1525987090772676608      NaN   \n",
       "119770        njosh_jon        Jon Njosh  1520303800292192256      NaN   \n",
       "119771  Mariah367561791           Mariah  1527578448197214209      NaN   \n",
       "119772         puangorp               P.  1398535348636905475      NaN   \n",
       "119773  sombre_symphony  Sombre_symphony  1527163605325578240      NaN   \n",
       "\n",
       "        followers_count  friends_count  \\\n",
       "119769                0             57   \n",
       "119770                0             87   \n",
       "119771                1              4   \n",
       "119772                3            235   \n",
       "119773               23            170   \n",
       "\n",
       "                                      description     artist  \n",
       "119769                        Living my best life  snoopdogg  \n",
       "119770                               Fashionister  snoopdogg  \n",
       "119771                                        NaN  snoopdogg  \n",
       "119772                                        NaN  snoopdogg  \n",
       "119773  «I was looking for love and found myself»  snoopdogg  "
      ]
     },
     "execution_count": 30,
     "metadata": {},
     "output_type": "execute_result"
    }
   ],
   "source": [
    "twitter.tail()"
   ]
  },
  {
   "cell_type": "code",
   "execution_count": 60,
   "id": "af9e7a4b",
   "metadata": {},
   "outputs": [],
   "source": [
    "# Read in the positive and negative words and the\n",
    "# tidytext sentiment. Store these so that the positive\n",
    "# words are associated with a score of +1 and negative words\n",
    "# are associated with a score of -1. You can use a dataframe or a \n",
    "# dictionary for this.\n",
    "\n",
    "sentiments = pd.read_csv('tidytext_sentiments.txt', sep='\\t')[['word', 'sentiment']]\n",
    "\n",
    "positive = pd.read_csv('positive-words.txt', sep='\\t', header=33)\n",
    "positive.columns = ['Positive Word']\n",
    "\n",
    "negative = pd.read_csv('negative-words.txt', sep='\\t', header=33, encoding='latin')\n",
    "negative.columns = ['Negative Word']"
   ]
  },
  {
   "cell_type": "code",
   "execution_count": 74,
   "id": "82b47943-8d48-4cd7-89a2-9753eb0ea45d",
   "metadata": {},
   "outputs": [],
   "source": [
    "scores = {}\n",
    "\n",
    "scores['positive'] = set(positive['Positive Word'].str.lower().tolist() + sentiments[sentiments['sentiment']=='positive']['word'].str.lower().tolist())\n",
    "scores['negative'] = set(negative['Negative Word'].str.lower().tolist() + sentiments[sentiments['sentiment']=='negative']['word'].str.lower().tolist())"
   ]
  },
  {
   "cell_type": "code",
   "execution_count": 77,
   "id": "c6384d72-f3f3-4e80-9dd8-0ffa6eb48dd7",
   "metadata": {},
   "outputs": [
    {
     "name": "stdout",
     "output_type": "stream",
     "text": [
      "There are 3778 positive words and 7761 negative words\n"
     ]
    }
   ],
   "source": [
    "print('There are {} positive words and {} negative words'.format(len(scores['positive']), len(scores['negative'])))"
   ]
  },
  {
   "cell_type": "markdown",
   "id": "6a5f3b12",
   "metadata": {},
   "source": [
    "## Sentiment Analysis on Songs\n",
    "\n",
    "In this section, score the sentiment for all the songs for both artists in your data set. Score the sentiment by manually calculating the sentiment using the combined lexicons provided in this repository. \n",
    "\n",
    "After you have calculated these sentiments, answer the questions at the end of this section.\n"
   ]
  },
  {
   "cell_type": "code",
   "execution_count": 78,
   "id": "664f8d8f",
   "metadata": {},
   "outputs": [],
   "source": [
    "def analyze_sentiment(txt):\n",
    "    \n",
    "    txt = txt.lower()\n",
    "    score = 0\n",
    "    \n",
    "    for word in txt.strip().split(' '):\n",
    "        \n",
    "        word = word.strip()\n",
    "        \n",
    "        if word in scores['positive']:\n",
    "            score += 1\n",
    "        \n",
    "        elif word in scores['negative']:\n",
    "            score -= 1\n",
    "            \n",
    "    return score"
   ]
  },
  {
   "cell_type": "code",
   "execution_count": 82,
   "id": "7a78f834-06e0-4278-b45c-df6e4436a4ef",
   "metadata": {},
   "outputs": [],
   "source": [
    "lyrics['Sentiment Score'] = lyrics.apply(lambda x: analyze_sentiment(x['lyric']), axis=1)"
   ]
  },
  {
   "cell_type": "code",
   "execution_count": 85,
   "id": "d3f7131b-efe7-4174-8da0-ad5166bde33e",
   "metadata": {},
   "outputs": [],
   "source": [
    "lyrics.sort_values('Sentiment Score', inplace=True)"
   ]
  },
  {
   "cell_type": "code",
   "execution_count": 87,
   "id": "17faffbc-b32a-4e24-ae22-c7106a292f7c",
   "metadata": {},
   "outputs": [
    {
     "data": {
      "text/html": [
       "<div>\n",
       "<style scoped>\n",
       "    .dataframe tbody tr th:only-of-type {\n",
       "        vertical-align: middle;\n",
       "    }\n",
       "\n",
       "    .dataframe tbody tr th {\n",
       "        vertical-align: top;\n",
       "    }\n",
       "\n",
       "    .dataframe thead th {\n",
       "        text-align: right;\n",
       "    }\n",
       "</style>\n",
       "<table border=\"1\" class=\"dataframe\">\n",
       "  <thead>\n",
       "    <tr style=\"text-align: right;\">\n",
       "      <th></th>\n",
       "      <th>artist</th>\n",
       "      <th>title</th>\n",
       "      <th>lyric</th>\n",
       "      <th>Sentiment Score</th>\n",
       "    </tr>\n",
       "  </thead>\n",
       "  <tbody>\n",
       "    <tr>\n",
       "      <th>354</th>\n",
       "      <td>eminem</td>\n",
       "      <td>Shit On You</td>\n",
       "      <td>I'll shit on you Da da, da da, da da I'll shit...</td>\n",
       "      <td>-114</td>\n",
       "    </tr>\n",
       "    <tr>\n",
       "      <th>112</th>\n",
       "      <td>eminem</td>\n",
       "      <td>Kill You</td>\n",
       "      <td>When I was just a little baby boy, My momma us...</td>\n",
       "      <td>-90</td>\n",
       "    </tr>\n",
       "    <tr>\n",
       "      <th>148</th>\n",
       "      <td>eminem</td>\n",
       "      <td>Quitter</td>\n",
       "      <td>Yo, I dedicate to this to you To all my fans, ...</td>\n",
       "      <td>-85</td>\n",
       "    </tr>\n",
       "    <tr>\n",
       "      <th>102</th>\n",
       "      <td>eminem</td>\n",
       "      <td>Dead Wrong (Remix)</td>\n",
       "      <td>Bad Boy, baby Yeah, yeah Junior M.A.F.I.A., ye...</td>\n",
       "      <td>-70</td>\n",
       "    </tr>\n",
       "    <tr>\n",
       "      <th>33</th>\n",
       "      <td>eminem</td>\n",
       "      <td>Till I Collapse (Remix)</td>\n",
       "      <td>Sometimes you just feel tired, feel weak When ...</td>\n",
       "      <td>-61</td>\n",
       "    </tr>\n",
       "    <tr>\n",
       "      <th>...</th>\n",
       "      <td>...</td>\n",
       "      <td>...</td>\n",
       "      <td>...</td>\n",
       "      <td>...</td>\n",
       "    </tr>\n",
       "    <tr>\n",
       "      <th>220</th>\n",
       "      <td>eminem</td>\n",
       "      <td>White America</td>\n",
       "      <td>America, we love you How many people are proud...</td>\n",
       "      <td>30</td>\n",
       "    </tr>\n",
       "    <tr>\n",
       "      <th>361</th>\n",
       "      <td>eminem</td>\n",
       "      <td>The Real Slim Shady</td>\n",
       "      <td>May I have your attention please? May I have y...</td>\n",
       "      <td>31</td>\n",
       "    </tr>\n",
       "    <tr>\n",
       "      <th>310</th>\n",
       "      <td>eminem</td>\n",
       "      <td>The Re-Up</td>\n",
       "      <td>Boom boom chuck, boom b-boom chuck Boom boom c...</td>\n",
       "      <td>33</td>\n",
       "    </tr>\n",
       "    <tr>\n",
       "      <th>323</th>\n",
       "      <td>eminem</td>\n",
       "      <td>Searchin'</td>\n",
       "      <td>[Angela Workman:] Ain't no one special, specia...</td>\n",
       "      <td>38</td>\n",
       "    </tr>\n",
       "    <tr>\n",
       "      <th>263</th>\n",
       "      <td>eminem</td>\n",
       "      <td>Superman</td>\n",
       "      <td>You high, baby? Yeah Ya Talk to me You want me...</td>\n",
       "      <td>71</td>\n",
       "    </tr>\n",
       "  </tbody>\n",
       "</table>\n",
       "<p>389 rows × 4 columns</p>\n",
       "</div>"
      ],
      "text/plain": [
       "     artist                    title  \\\n",
       "354  eminem              Shit On You   \n",
       "112  eminem                 Kill You   \n",
       "148  eminem                  Quitter   \n",
       "102  eminem       Dead Wrong (Remix)   \n",
       "33   eminem  Till I Collapse (Remix)   \n",
       "..      ...                      ...   \n",
       "220  eminem            White America   \n",
       "361  eminem      The Real Slim Shady   \n",
       "310  eminem                The Re-Up   \n",
       "323  eminem                Searchin'   \n",
       "263  eminem                 Superman   \n",
       "\n",
       "                                                 lyric  Sentiment Score  \n",
       "354  I'll shit on you Da da, da da, da da I'll shit...             -114  \n",
       "112  When I was just a little baby boy, My momma us...              -90  \n",
       "148  Yo, I dedicate to this to you To all my fans, ...              -85  \n",
       "102  Bad Boy, baby Yeah, yeah Junior M.A.F.I.A., ye...              -70  \n",
       "33   Sometimes you just feel tired, feel weak When ...              -61  \n",
       "..                                                 ...              ...  \n",
       "220  America, we love you How many people are proud...               30  \n",
       "361  May I have your attention please? May I have y...               31  \n",
       "310  Boom boom chuck, boom b-boom chuck Boom boom c...               33  \n",
       "323  [Angela Workman:] Ain't no one special, specia...               38  \n",
       "263  You high, baby? Yeah Ya Talk to me You want me...               71  \n",
       "\n",
       "[389 rows x 4 columns]"
      ]
     },
     "execution_count": 87,
     "metadata": {},
     "output_type": "execute_result"
    }
   ],
   "source": [
    "lyrics[lyrics['artist']=='eminem']"
   ]
  },
  {
   "cell_type": "code",
   "execution_count": 88,
   "id": "1c580ed0-4c78-47f0-bd4e-3b6f97085dbc",
   "metadata": {},
   "outputs": [
    {
     "data": {
      "text/html": [
       "<div>\n",
       "<style scoped>\n",
       "    .dataframe tbody tr th:only-of-type {\n",
       "        vertical-align: middle;\n",
       "    }\n",
       "\n",
       "    .dataframe tbody tr th {\n",
       "        vertical-align: top;\n",
       "    }\n",
       "\n",
       "    .dataframe thead th {\n",
       "        text-align: right;\n",
       "    }\n",
       "</style>\n",
       "<table border=\"1\" class=\"dataframe\">\n",
       "  <thead>\n",
       "    <tr style=\"text-align: right;\">\n",
       "      <th></th>\n",
       "      <th>artist</th>\n",
       "      <th>title</th>\n",
       "      <th>lyric</th>\n",
       "      <th>Sentiment Score</th>\n",
       "    </tr>\n",
       "  </thead>\n",
       "  <tbody>\n",
       "    <tr>\n",
       "      <th>469</th>\n",
       "      <td>snoopdogg</td>\n",
       "      <td>Back Up Off Me</td>\n",
       "      <td>[Mean Green] What's up y'all? It's the Mean-st...</td>\n",
       "      <td>-90</td>\n",
       "    </tr>\n",
       "    <tr>\n",
       "      <th>490</th>\n",
       "      <td>snoopdogg</td>\n",
       "      <td>Dick Walk</td>\n",
       "      <td>[Snoop Dogg:] We so controvencial, this dick i...</td>\n",
       "      <td>-71</td>\n",
       "    </tr>\n",
       "    <tr>\n",
       "      <th>687</th>\n",
       "      <td>snoopdogg</td>\n",
       "      <td>Down 4 My Niggas</td>\n",
       "      <td>[C-Murder] Fuck them niggas, ha ha.  Fuck them...</td>\n",
       "      <td>-64</td>\n",
       "    </tr>\n",
       "    <tr>\n",
       "      <th>596</th>\n",
       "      <td>snoopdogg</td>\n",
       "      <td>DP Gangsta</td>\n",
       "      <td>[Eddie Talking]  This is a service public anno...</td>\n",
       "      <td>-64</td>\n",
       "    </tr>\n",
       "    <tr>\n",
       "      <th>876</th>\n",
       "      <td>snoopdogg</td>\n",
       "      <td>Slow Down</td>\n",
       "      <td>Slow down cause I can't take the heat, slow do...</td>\n",
       "      <td>-54</td>\n",
       "    </tr>\n",
       "    <tr>\n",
       "      <th>...</th>\n",
       "      <td>...</td>\n",
       "      <td>...</td>\n",
       "      <td>...</td>\n",
       "      <td>...</td>\n",
       "    </tr>\n",
       "    <tr>\n",
       "      <th>590</th>\n",
       "      <td>snoopdogg</td>\n",
       "      <td>Drop It Like It's Hot</td>\n",
       "      <td>Snoop, Snoop  [Snoop Dogg:] When the pimp's in...</td>\n",
       "      <td>53</td>\n",
       "    </tr>\n",
       "    <tr>\n",
       "      <th>398</th>\n",
       "      <td>snoopdogg</td>\n",
       "      <td>Rise To The Top</td>\n",
       "      <td>Woo I'm tryna pull up to he coast line and Ask...</td>\n",
       "      <td>53</td>\n",
       "    </tr>\n",
       "    <tr>\n",
       "      <th>886</th>\n",
       "      <td>snoopdogg</td>\n",
       "      <td>Pure Gold</td>\n",
       "      <td>Though we are tried like silver in the fire We...</td>\n",
       "      <td>56</td>\n",
       "    </tr>\n",
       "    <tr>\n",
       "      <th>472</th>\n",
       "      <td>snoopdogg</td>\n",
       "      <td>Praise Him</td>\n",
       "      <td>I said I woke up early this morning I'm nowher...</td>\n",
       "      <td>62</td>\n",
       "    </tr>\n",
       "    <tr>\n",
       "      <th>680</th>\n",
       "      <td>snoopdogg</td>\n",
       "      <td>Trash Bags</td>\n",
       "      <td>[Female Voice:] You gotta come to freak girls ...</td>\n",
       "      <td>65</td>\n",
       "    </tr>\n",
       "  </tbody>\n",
       "</table>\n",
       "<p>543 rows × 4 columns</p>\n",
       "</div>"
      ],
      "text/plain": [
       "        artist                  title  \\\n",
       "469  snoopdogg         Back Up Off Me   \n",
       "490  snoopdogg              Dick Walk   \n",
       "687  snoopdogg       Down 4 My Niggas   \n",
       "596  snoopdogg             DP Gangsta   \n",
       "876  snoopdogg              Slow Down   \n",
       "..         ...                    ...   \n",
       "590  snoopdogg  Drop It Like It's Hot   \n",
       "398  snoopdogg        Rise To The Top   \n",
       "886  snoopdogg              Pure Gold   \n",
       "472  snoopdogg             Praise Him   \n",
       "680  snoopdogg             Trash Bags   \n",
       "\n",
       "                                                 lyric  Sentiment Score  \n",
       "469  [Mean Green] What's up y'all? It's the Mean-st...              -90  \n",
       "490  [Snoop Dogg:] We so controvencial, this dick i...              -71  \n",
       "687  [C-Murder] Fuck them niggas, ha ha.  Fuck them...              -64  \n",
       "596  [Eddie Talking]  This is a service public anno...              -64  \n",
       "876  Slow down cause I can't take the heat, slow do...              -54  \n",
       "..                                                 ...              ...  \n",
       "590  Snoop, Snoop  [Snoop Dogg:] When the pimp's in...               53  \n",
       "398  Woo I'm tryna pull up to he coast line and Ask...               53  \n",
       "886  Though we are tried like silver in the fire We...               56  \n",
       "472  I said I woke up early this morning I'm nowher...               62  \n",
       "680  [Female Voice:] You gotta come to freak girls ...               65  \n",
       "\n",
       "[543 rows x 4 columns]"
      ]
     },
     "execution_count": 88,
     "metadata": {},
     "output_type": "execute_result"
    }
   ],
   "source": [
    "lyrics[lyrics['artist']=='snoopdogg']"
   ]
  },
  {
   "cell_type": "code",
   "execution_count": 91,
   "id": "939a7689-89cd-420e-b23a-c4ba8c0442d1",
   "metadata": {},
   "outputs": [
    {
     "name": "stdout",
     "output_type": "stream",
     "text": [
      "Eminem Average Semantics : -10.05\n",
      "SnoopDogg Average Semantics : 1.28\n"
     ]
    }
   ],
   "source": [
    "print('Eminem Average Semantics : {:.2f}'.format(lyrics[lyrics['artist']=='eminem']['Sentiment Score'].mean()))\n",
    "print('SnoopDogg Average Semantics : {:.2f}'.format(lyrics[lyrics['artist']=='snoopdogg']['Sentiment Score'].mean()))"
   ]
  },
  {
   "cell_type": "markdown",
   "id": "9ff578b4-1fe9-407f-820a-e9f67461bbf9",
   "metadata": {},
   "source": [
    "### Questions\n",
    "\n",
    "Q: Overall, which artist has the higher average sentiment per song? \n",
    "\n",
    "A: Based on the analysis, SnoppDogg has higher though the number is still quite close to 0 (only a bit above 1). Meanwhile, Eminem's avg sentiment is -10 which is farther away from 0 (neutral). \n",
    "\n",
    "---"
   ]
  },
  {
   "cell_type": "markdown",
   "id": "43eda117-c9fa-4861-bb0d-cc211c22fdcc",
   "metadata": {},
   "source": [
    "Q: For your first artist, what songs have the highest and lowest sentiments? Print those songs to the screen."
   ]
  },
  {
   "cell_type": "code",
   "execution_count": 95,
   "id": "e64433ec-62cd-4935-b5db-5e9e60f52d00",
   "metadata": {},
   "outputs": [
    {
     "data": {
      "text/html": [
       "<div>\n",
       "<style scoped>\n",
       "    .dataframe tbody tr th:only-of-type {\n",
       "        vertical-align: middle;\n",
       "    }\n",
       "\n",
       "    .dataframe tbody tr th {\n",
       "        vertical-align: top;\n",
       "    }\n",
       "\n",
       "    .dataframe thead th {\n",
       "        text-align: right;\n",
       "    }\n",
       "</style>\n",
       "<table border=\"1\" class=\"dataframe\">\n",
       "  <thead>\n",
       "    <tr style=\"text-align: right;\">\n",
       "      <th></th>\n",
       "      <th>artist</th>\n",
       "      <th>title</th>\n",
       "      <th>lyric</th>\n",
       "      <th>Sentiment Score</th>\n",
       "    </tr>\n",
       "  </thead>\n",
       "  <tbody>\n",
       "    <tr>\n",
       "      <th>263</th>\n",
       "      <td>eminem</td>\n",
       "      <td>Superman</td>\n",
       "      <td>You high, baby? Yeah Ya Talk to me You want me...</td>\n",
       "      <td>71</td>\n",
       "    </tr>\n",
       "  </tbody>\n",
       "</table>\n",
       "</div>"
      ],
      "text/plain": [
       "     artist     title                                              lyric  \\\n",
       "263  eminem  Superman  You high, baby? Yeah Ya Talk to me You want me...   \n",
       "\n",
       "     Sentiment Score  \n",
       "263               71  "
      ]
     },
     "metadata": {},
     "output_type": "display_data"
    },
    {
     "data": {
      "text/plain": [
       "'You high, baby? Yeah Ya Talk to me You want me to tell you something? Uh-huh I know what you wanna hear  \\'Cause I know you want me baby I think I want you too \"I think I love you baby\" I think I love you too I\\'m here to save you girl Come be in Shady\\'s world I wanna grow together Let\\'s let our love unfurl You know you want me baby You know I want you too They call me Superman I\\'m here to rescue you I wanna save you girl Come be in Shady\\'s world \"Ooh boy you drive me crazy\" Bitch you make me hurl  They call me Superman Leap tall hoes in a single bound I\\'m single now Got no ring on this finger now I\\'d never let another chick bring me down In a relationship Save it bitch, babysit You make me sick Superman ain\\'t savin\\' shit Girl you can jump on Shady\\'s dick Straight from the hip, cut to the chase I tell a motherfuckin\\' slut to her face Play no games, say no names Ever since I broke up with what\\'s-her-face I\\'m a different man, kiss my ass Kiss my lips, bitch why ask? Kiss my dick, get my cash I\\'d rather have you whip my ass Don\\'t put out, I\\'ll put you out Won\\'t get out, I\\'ll push you out Puss blew out, poppin\\' shit Wouldn\\'t piss on fire to put you out Am I too nice? Buy you ice Bitch if you died, wouldn\\'t buy you life What you tryin\\' to be? My new wife? What you Mariah, fly through twice  But I do know one thing though Bitches, they come they go Saturday through Sunday, Monday Monday through Sunday yo Maybe I\\'ll love you one day Maybe we\\'ll someday grow \\'Til then just sit your drunk ass on that fuckin\\' runway ho  \\'Cause I can\\'t be your Superman Can\\'t be your Superman Can\\'t be your Superman Can\\'t be your Superman I can\\'t be your Superman Can\\'t be your Superman Can\\'t be your Superman Your Superman, your Superman  Don\\'t get me wrong, I love these hoes It\\'s no secret, everybody knows Yeah we fucked, bitch so what? That\\'s about as far as your buddy goes We\\'ll be friends, I\\'ll call you again I\\'ll chase you around every bar you attend Never know what kinda car I\\'ll be in We\\'ll see how much you\\'ll be partying then You don\\'t want that, neither do I I don\\'t wanna flip when I see you with guys Too much pride between you and I Not a jealous man, but females lie But I guess that\\'s just what sluts do How could it ever be just us two I\\'d never love you enough to trust you We just met and I just fucked you  But I do know one thing though Bitches, they come they go Saturday through Sunday, Monday Monday through Sunday yo Maybe I\\'ll love you one day Maybe we\\'ll someday grow \\'Til then just sit your drunk ass on that fuckin\\' runway ho  \\'Cause I can\\'t be your Superman Can\\'t be your Superman Can\\'t be your Superman Can\\'t be your Superman I can\\'t be your Superman Can\\'t be your Superman Can\\'t be your Superman Your Superman, your Superman  \\'Cause I can\\'t be your Superman Can\\'t be your Superman Can\\'t be your Superman Can\\'t be your Superman I can\\'t be your Superman Can\\'t be your Superman Can\\'t be your Superman Your Superman, your Superman  \\'Cause I know you want me baby I think I want you too \"I think I love you baby\" I think I love you too I\\'m here to save you girl Come be in Shady\\'s world I wanna grow together Let\\'s let our love unfurl You know you want me baby You know I want you too They call me Superman I\\'m here to rescue you I wanna save you girl Come be in Shady\\'s world \"Ooh boy you drive me crazy\" Bitch you make me hurl  First thing you say \"I\\'m not fazed, I hang around big stars all day I don\\'t see what the big deal is anyway You\\'re just plain old Marshall to me\" Ooh yeah girl run that game \"Hailie Jade, I love that name Love that tattoo, what\\'s that say?\" \"Rot in pieces, uh, that\\'s great\" First off you don\\'t know Marshall At all so don\\'t grow partial That\\'s ammo for my arsenal I\\'ll slap you off that bar stool There goes another lawsuit Leave hand prints all across you Good Lordy whoadie You must be gone off that water bottle You want what you can\\'t have Ooh girl that\\'s too damn bad Don\\'t touch what you can\\'t grab End up with two backhands Put anthrax on a Tampax, and slap you \\'til you can\\'t stand Girl you just blew your chance Don\\'t mean to ruin your plans  But I do know one thing though Bitches, they come they go Saturday through Sunday, Monday Monday through Sunday yo Maybe I\\'ll love you one day Maybe we\\'ll someday grow \\'Til then just sit your drunk ass on that fuckin\\' runway ho  \\'Cause I can\\'t be your Superman Can\\'t be your Superman Can\\'t be your Superman Can\\'t be your Superman I can\\'t be your Superman Can\\'t be your Superman Can\\'t be your Superman Your Superman, your Superman  \\'Cause I can\\'t be your Superman Can\\'t be your Superman Can\\'t be your Superman Can\\'t be your Superman I can\\'t be your Superman Can\\'t be your Superman Can\\'t be your Superman Your Superman, your Superman  \\'Cause I know you want me baby I think I want you too \"I think I love you baby\" I think I love you too I\\'m here to save you girl Come be in Shady\\'s world I wanna grow together Let\\'s let our love unfurl You know you want me baby You know I want you too They call me Superman I\\'m here to rescue you I wanna save you girl Come be in Shady\\'s world \"Ooh boy you drive me crazy\" Bitch you make me hurl  \\'Cause I can\\'t be your Superman Can\\'t be your Superman Can\\'t be your Superman Can\\'t be your Superman I can\\'t be your Superman Can\\'t be your Superman Can\\'t be your Superman Your Superman, your Superman  \\'Cause I can\\'t be your Superman Can\\'t be your Superman Can\\'t be your Superman Can\\'t be your Superman I can\\'t be your Superman Can\\'t be your Superman Can\\'t be your Superman Your Superman, your Superman'"
      ]
     },
     "execution_count": 100,
     "metadata": {},
     "output_type": "execute_result"
    }
   ],
   "source": [
    "# Eminem's highest\n",
    "\n",
    "eminem_highest = lyrics[(lyrics['artist']=='eminem') & (lyrics['Sentiment Score']==lyrics[lyrics['artist']=='eminem']['Sentiment Score'].max())]\n",
    "display(eminem_highest)\n",
    "\n",
    "eminem_highest['lyric'].item()"
   ]
  },
  {
   "cell_type": "code",
   "execution_count": 102,
   "id": "f34d7593-b752-46b5-83a0-7f70cbe5415e",
   "metadata": {},
   "outputs": [
    {
     "data": {
      "text/html": [
       "<div>\n",
       "<style scoped>\n",
       "    .dataframe tbody tr th:only-of-type {\n",
       "        vertical-align: middle;\n",
       "    }\n",
       "\n",
       "    .dataframe tbody tr th {\n",
       "        vertical-align: top;\n",
       "    }\n",
       "\n",
       "    .dataframe thead th {\n",
       "        text-align: right;\n",
       "    }\n",
       "</style>\n",
       "<table border=\"1\" class=\"dataframe\">\n",
       "  <thead>\n",
       "    <tr style=\"text-align: right;\">\n",
       "      <th></th>\n",
       "      <th>artist</th>\n",
       "      <th>title</th>\n",
       "      <th>lyric</th>\n",
       "      <th>Sentiment Score</th>\n",
       "    </tr>\n",
       "  </thead>\n",
       "  <tbody>\n",
       "    <tr>\n",
       "      <th>354</th>\n",
       "      <td>eminem</td>\n",
       "      <td>Shit On You</td>\n",
       "      <td>I'll shit on you Da da, da da, da da I'll shit...</td>\n",
       "      <td>-114</td>\n",
       "    </tr>\n",
       "  </tbody>\n",
       "</table>\n",
       "</div>"
      ],
      "text/plain": [
       "     artist        title                                              lyric  \\\n",
       "354  eminem  Shit On You  I'll shit on you Da da, da da, da da I'll shit...   \n",
       "\n",
       "     Sentiment Score  \n",
       "354             -114  "
      ]
     },
     "metadata": {},
     "output_type": "display_data"
    },
    {
     "data": {
      "text/plain": [
       "'I\\'ll shit on you Da da, da da, da da I\\'ll shit on you Da da, da da, da da  I\\'ll shit on you Da da, da da, da da I\\'ll shit on you Da da, da da, da da  I\\'ll shit on you I will shit on you I\\'ll shit on you Girl you know it\\'s true I\\'ll shit on you Bitch or man I\\'ll shit on you I will shit on you  I remain fatter than gluttony Taping bombs to the back of record companies Blow them up if they ain\\'t want me The National Guard, they scared to hunt me I love beef; I got you hoes ducking me A drug thief, bitch I\\'ll take your marijuana These slugs with keep your ass away from my corner I drown niggas in hundred degree saunas You can act a fool if you wanna (bitch) It\\'s this lyrical piranha Strapped with a grenade, in the pool with your mama Attack her by the legs then I pull her to the bottom Twist nothing up like a condom Slap it if you fuckers got a problem When I see them, you hoes ending up in a fuckin\\' mausoleum Or hidden in the trunk of a black and gold BM Pull in the garage while you screaming Keep the motor on then I\\'m leaving (I\\'ll shit on you!) I\\'ll shit on you!  I will shit on you I don\\'t care who you are (I\\'ll shit on you!) I don\\'t give a fuck about you or your car (I\\'ll shit on you!) Fuck your house, fuck your jewelry and fuck your watch (I\\'ll shit on you!) Fuck your wife, fuck your kids, fuck your family (I\\'ll shit on you!)  I\\'m a alcoholic with the fucking toilet Pass the hot dogs (Bizarre aren\\'t you Islamic?) Bitch shut your fucking mouth I\\'m a keep eating \\'til Richard Simmons comes to my house With a chain saw to cut me out My fuckin\\' wife I haven\\'t had sex since I met her I\\'m to busy fucking, your 12 year old baby sitter And all women ain\\'t shit Only good for cooking, cleaning And sucking dick and that\\'s it (I said it) I was responsible for killing John Candy I got Jonbenet Ramsey in my Ninety Eight Camry I don\\'t give a fuck who you are I\\'ll shit on anybody Truly yours the idiotic Bizarre  My adolescent years weren\\'t shit \\'til what I do now I never grew up I was born grown, and grew down The older I get, the dumber the shit, I get in The more ignorant, the incident, is I fit in Ignoring the shit how boring it gets When there\\'s no one to hit I don\\'t know when to quit throwing a fit I know I\\'m a bit flaky but they make me It\\'s they who raised me and say the can take me Come on It\\'s they who legs I brake and make achy It\\'s they who mistake me and make me so angry (I\\'ll shit on you!) I\\'ll spit on you Start pissing and do the opposite on you You weren\\'t listening, I said I\\'ll cop a squat on you Start spilling my guts like chicken cordon blew and Straight shit like Notorious B.I.G. did to that bitch On his skit on his last album Pull my pants down and (I\\'ll shit on you!)  I will shit on you I don\\'t care who you are (I\\'ll shit on you!) I don\\'t give a fuck about you or your car (I\\'ll shit on you!) Fuck your house, fuck your jewelry and fuck your watch (I\\'ll shit on you!) Fuck your wife, fuck your kids, fuck your family (I\\'ll shit on you!)  Is Richard Pryor still alive? If not I\\'m sicker than he was prior to him dying (what?) Born brainless, this steel ain\\'t stainless Your bloodstains are all over this steel God dang-it Bitch bring it, these niggas that I hang with Will hang you up naked by your ankles dangling Come on My need I stay strangling I don\\'t need your help If you gon\\' give me the pussy I\\'ll un-loosen my belt (I\\'ll shit on you!) I\\'ll punch your daddy not, your mom\\'s kinda cock Your sister tends court, your aunt supply her rocks Buck fifty cross your neck Floss your teck, I\\'ll beat you with it across your chest  Yo, it\\'s only right I jack your car keys and run Spent all of my advancements on weed and guns For fun, when I\\'m drunk I\\'ll run a truck through the weed house Jump out and beat your peeps down worst than Steve Stout Put you in chokeholds I learned last week From the police man who caught me stealing weed from his jeep (Hey, hey, hey!) I see hoes biting, y\\'all don\\'t wanna brawl That\\'s like D-Bo fighting Peablo Bryson (I\\'ll shit on you) So what you hollering and yelling about I\\'ll reach in your mouth and pull your fucking skeleton out Niggas get hit with a two piece, \"Bling Bling\" With a poisonous sting I\\'m such a violent thing  I will shit on you I don\\'t care who you are (I\\'ll shit on you!) I don\\'t give a fuck about you or your car (I\\'ll shit on you!) Fuck your house, fuck your jewelry and fuck your watch (I\\'ll shit on you!) Fuck your wife, fuck your kids, fuck your family (I\\'ll shit on you!)  Once I get on two, hits of X My disk slips and disconnects \\'Til I walk around this bitch with a twisted neck But still shit on the first bitch who disrespects (C\\'mon, I\\'ll shit on you!) Over reaction is my only reaction Which only sets off a chain reaction And puts five more zainiac than maniacs in action A rat pack in black jackets who pack ten Nine millimeters, five criminals pulling heaters And spilling liters of blood like swimming pools Shiesty individuals shoot at bitches too  A lot of people say misogynistic which is true I don\\'t deny it matter of fact I stand by it So please stand by it before we start up a damn riot If you don\\'t wanna get stampeded then stand quiet Boy girl dog woman man child (I\\'ll shit on you!)  I will shit on you I don\\'t care who you are (I\\'ll shit on you!) I don\\'t give a fuck about you or your car (I\\'ll shit on you!) Fuck your house, fuck your jewelry and fuck your watch (I\\'ll shit on you!) I will fuck your wife if you fuck with me (I\\'ll shit on you!)  You heard me, bitch (I\\'ll shit on you!) D12 (I\\'ll shit on you!) You life, your wife, your kids, your car (I\\'ll shit on you!) Your house, your spouse, your rings, your things (I\\'ll shit on you!) (I\\'ll shit on you!) (I\\'ll shit on you!)'"
      ]
     },
     "execution_count": 102,
     "metadata": {},
     "output_type": "execute_result"
    }
   ],
   "source": [
    "# Eminem's highest\n",
    "\n",
    "eminem_lowest = lyrics[(lyrics['artist']=='eminem') & (lyrics['Sentiment Score']==lyrics[lyrics['artist']=='eminem']['Sentiment Score'].min())]\n",
    "display(eminem_lowest)\n",
    "\n",
    "eminem_lowest['lyric'].item()"
   ]
  },
  {
   "cell_type": "markdown",
   "id": "3a76811a-4e76-4424-879f-ab87e4e488f6",
   "metadata": {},
   "source": [
    "A: Highest is `Superman` with the score of 71 while the lowest is `Shit On You` with the score of -114\n",
    "\n",
    "---"
   ]
  },
  {
   "cell_type": "markdown",
   "id": "ebfe9b64-410e-4fff-933f-9bd7195352f7",
   "metadata": {},
   "source": [
    "Q: For your second artist, what songs have the highest and lowest sentiments? Print those songs to the screen."
   ]
  },
  {
   "cell_type": "code",
   "execution_count": 104,
   "id": "838690cd-69fb-4613-b609-2baf96afd634",
   "metadata": {},
   "outputs": [
    {
     "data": {
      "text/html": [
       "<div>\n",
       "<style scoped>\n",
       "    .dataframe tbody tr th:only-of-type {\n",
       "        vertical-align: middle;\n",
       "    }\n",
       "\n",
       "    .dataframe tbody tr th {\n",
       "        vertical-align: top;\n",
       "    }\n",
       "\n",
       "    .dataframe thead th {\n",
       "        text-align: right;\n",
       "    }\n",
       "</style>\n",
       "<table border=\"1\" class=\"dataframe\">\n",
       "  <thead>\n",
       "    <tr style=\"text-align: right;\">\n",
       "      <th></th>\n",
       "      <th>artist</th>\n",
       "      <th>title</th>\n",
       "      <th>lyric</th>\n",
       "      <th>Sentiment Score</th>\n",
       "    </tr>\n",
       "  </thead>\n",
       "  <tbody>\n",
       "    <tr>\n",
       "      <th>680</th>\n",
       "      <td>snoopdogg</td>\n",
       "      <td>Trash Bags</td>\n",
       "      <td>[Female Voice:] You gotta come to freak girls ...</td>\n",
       "      <td>65</td>\n",
       "    </tr>\n",
       "  </tbody>\n",
       "</table>\n",
       "</div>"
      ],
      "text/plain": [
       "        artist       title                                              lyric  \\\n",
       "680  snoopdogg  Trash Bags  [Female Voice:] You gotta come to freak girls ...   \n",
       "\n",
       "     Sentiment Score  \n",
       "680               65  "
      ]
     },
     "metadata": {},
     "output_type": "display_data"
    },
    {
     "data": {
      "text/plain": [
       "'[Female Voice:] You gotta come to freak girls right now It\\'s poppin\\', like, niggas is throwing money left to right I say you bring that bag Music Major  [K Camp (Snoop Dogg):] Trash bag, full of cash, full of cash Count that Trash bag, full of cash, full of cash Count that Count that up, count that up, count that up Count that Trash bag, full of cash, full of cash Count that (Twenties), count that (Hundreds), count that (Dollars), count that (Money), count that (Paper) Trash bag, full of cash, full of cash Count that  [Snoop Dogg:] Passion, Angy, Keshia, Brandy Tangy, paradise, obsession and candy Lily, butterfly What are you, what am I? Bella, Lauren, Linda Rose On the stage, on the pole Oceanate, Pina Colada At the top, on the bottom Ace of diamonds, keep \\'em shinin\\' Crazy girls oh yeah we got \\'em Daisy it\\'s crazy, and so as the home gon\\' red Don\\'t fuck around when it come around to pickin\\' up that bread It\\'s yours  [K Camp (Snoop Dogg):] Trash bag, full of cash, full of cash Count that Trash bag, full of cash, full of cash Count that Count that up, count that up, count that up Count that Trash bag, full of cash, full of cash Count that (Twenties), count that Hundreds), count that (Dollars), count that (Money), count that (Paper) Trash bag, full of cash, full of cash Count that  [Snoop Dogg:] Peaches and Desiree, baby girl that\\'s from the A KeKe and Showtime, there\\'s no time like today Champagne, Tyra, Coco and Chocolate Stina and Devina, I\\'m lovin\\' how ya\\'ll poppin\\' it XO, Hennessy, PatrÃ³n and lime after Baby say, \"roll the J\", tangerine with pineapple Daisy it\\'s crazy, and so as the home gon\\' red Don\\'t fuck around when it come around to pickin\\' up that bread It\\'s yours  [K Camp:] Trash bag, full of cash, full of cash Count that Trash bag, full of cash, full of cash Count that Count that up, count that up, count that up Count that Trash bag, full of cash, full of cash Count that  Count that, count that, count that, count that Trash bag, full of cash, full of cash Count that'"
      ]
     },
     "execution_count": 104,
     "metadata": {},
     "output_type": "execute_result"
    }
   ],
   "source": [
    "# Snoopdogg's highest\n",
    "\n",
    "snoopdogg_highest = lyrics[(lyrics['artist']=='snoopdogg') & (lyrics['Sentiment Score']==lyrics[lyrics['artist']=='snoopdogg']['Sentiment Score'].max())]\n",
    "display(snoopdogg_highest)\n",
    "\n",
    "snoopdogg_highest['lyric'].item()"
   ]
  },
  {
   "cell_type": "code",
   "execution_count": 105,
   "id": "60a6c791-6768-4119-a4f4-7d7f9f7b880c",
   "metadata": {},
   "outputs": [
    {
     "data": {
      "text/html": [
       "<div>\n",
       "<style scoped>\n",
       "    .dataframe tbody tr th:only-of-type {\n",
       "        vertical-align: middle;\n",
       "    }\n",
       "\n",
       "    .dataframe tbody tr th {\n",
       "        vertical-align: top;\n",
       "    }\n",
       "\n",
       "    .dataframe thead th {\n",
       "        text-align: right;\n",
       "    }\n",
       "</style>\n",
       "<table border=\"1\" class=\"dataframe\">\n",
       "  <thead>\n",
       "    <tr style=\"text-align: right;\">\n",
       "      <th></th>\n",
       "      <th>artist</th>\n",
       "      <th>title</th>\n",
       "      <th>lyric</th>\n",
       "      <th>Sentiment Score</th>\n",
       "    </tr>\n",
       "  </thead>\n",
       "  <tbody>\n",
       "    <tr>\n",
       "      <th>469</th>\n",
       "      <td>snoopdogg</td>\n",
       "      <td>Back Up Off Me</td>\n",
       "      <td>[Mean Green] What's up y'all? It's the Mean-st...</td>\n",
       "      <td>-90</td>\n",
       "    </tr>\n",
       "  </tbody>\n",
       "</table>\n",
       "</div>"
      ],
      "text/plain": [
       "        artist           title  \\\n",
       "469  snoopdogg  Back Up Off Me   \n",
       "\n",
       "                                                 lyric  Sentiment Score  \n",
       "469  [Mean Green] What's up y'all? It's the Mean-st...              -90  "
      ]
     },
     "metadata": {},
     "output_type": "display_data"
    },
    {
     "data": {
      "text/plain": [
       "'[Mean Green] What\\'s up y\\'all? It\\'s the Mean-ster Green-ster THIS should be played in residential neighborhoods clubs, cars, at high volume Get (?) wodies, at high volume  [Master P - over Mean Green] UNNNNNGHHH! Where all my No Limit Soldiers at? WHAT? WHAT? WHAT? WHAT? Where y\\'all at? WHAT? WHAT? WHAT? WHAT? (Throw \\'em up, throw \\'em up, throw \\'em up) WHAT? WHAT? WHAT? WHAT? (Get \\'em up, get \\'em up, get \\'em up)  [Chorus 2X: Master P] I\\'m a Down South nigga so FUCK Y\\'ALL NIGGAZ I\\'m a West coast nigga so FUCK Y\\'ALL NIGGAZ I\\'m a East coast nigga so FUCK Y\\'ALL NIGGAZ I\\'m a Midwest nigga so FUCK Y\\'ALL NIGGAZ  [Master P] Rented gat in his ride, wodie throw \\'em up high We some No Limit Soldiers \\'til the day that we die And everybody in my click be rowdy (UNNNNGHHH) (?) boot up, or shut up, or get routed! I\\'m from the streets and I hang with killers I make music by the ghetto for the thugs and killers Wodie respect my hood, screamin C-P-3 Nigga and Magic and Snoop, over there with me Cause I\\'m a Uptown nigga so FUCK Y\\'ALL NIGGAZ If we got problems we gon\\' bust them triggers Throw them thangs boy, like Sugar Shane Mosley Shake them haters, cause y\\'all can\\'t hold me  [Chorus]  [Mr. Magic] Get bucked up, nigga tear da club up If you ain\\'t bout gettin rowdy then back the FUCK UP Y\\'all, know when I\\'m comin you hear the chopper go BLAKA BLAKA I came to tear the ROOF off this motherfucker The hyper y\\'all get the harder I spit (WHOOO!) And won\\'t stop until they start a fight in this bitch! When I touch the mic I set the bitch on fire Who say they harder? They a motherfuckin LIAR! I touch the stage the crowd go crazy (AHHH!) The Devil raised me, you motherfuckers can\\'t fade me Mr. 9th Ward, better respect this I keep my head in the air because I know I\\'m the shit!  [Chorus]  [Snoop Dogg] B-O-U-T bout it (bout it) Tear this motherfuckin club up, nigga get rowdy Big Snoop D-O-double-G in this sonuvabitch (beitch) Gotcha runnin cause I\\'m comin with that South shit Close your mouth BITCH, DoggHouse BITCH Whatchu thought motherfucker? We gon\\' stay rich Well, the sayin goes, we slangin hoes while y\\'all be payin hoes, we G\\'d up and we pushin these pony-ups And the heat goes where the homie goes and the homie knows No Limit and DoggHouse keep it crack-a-lackin Mackin actin, rip-rackin, gun clappin and chip stackin  [Chorus - 1/2]  [Magic] Back up off me! [M.P.] Bitch, get off me! [Magic] Better back up off me! [M.P.] Bitch, get off me! [Magic] Better back up off me! [M.P.] Bitch, get off me! [Magic] Better back up off me! [M.P.] Bitch, get off me! [Magic] Better back up off me! [M.P.] Bitch, get off me! [Magic] Better back up off me! [M.P.] Bitch, get off me! [Magic] Better back up off me! [M.P.] Bitch, get off me! [Magic] Better back up off me! [M.P.] Bitch, get off me!  [M.P.] I\\'m a 3rd Ward nigga so FUCK Y\\'ALL NIGGAZ [Magic] I\\'m a 9th Ward nigga so FUCK Y\\'ALL NIGGAZ [Snoop] I\\'m a Long Beach nigga so FUCK Y\\'ALL NIGGAZ [M.P.] I\\'m a No Limit nigga so FUCK Y\\'ALL NIGGAZ  [Master P] Shake them haters off, shake them haters off Shake them haters off, shake them haters off Shake them haters off, shake them haters off Now which one of y\\'all motherfuckers (??) BACK THE FUCK UP!!  Shake them haters off, shake them haters off Shake them haters off, shake them haters off Shake them haters off, shake them haters off Shake them haters off, shake them haters off  Shake them haters off, shake them haters off Fuck the world nigga, haha (BEOTCH) We back wodie! No Limit! Snoop! (WOOF WOOF) P! And Magic So what I want y\\'all to do right now BOUNCE! (Shake them haters shake them haters shake them haters off) Motherfucker  [Snoop] Shake them haters off, shake them haters off Shake them haters off, shake them haters off Shake them haters off, shake them haters off Shake them haters off, shake them haters off Shake them haters off, shake them haters off Shake them haters off, shake them haters off Shake them haters off, shake them haters off Shake them haters off, shake them haters off Shake them haters off, shake them haters off  [Master P] Yo Snoop, it\\'s your country uncle Master P man The black Tony Montana, I wanna tell you Thank you for ery\\'thing you did for No Limit We won the fuckin war together We can do what we wanna do after this It ain\\'t No Limit Snoop, you been good to me Now it\\'s time for me to be good to you I\\'m bout to give you your own blocks wodie You do what you wanna do Bring \\'em in, we get the kilos from the South to the West We ship \\'em, give it to the world Sell it to the fuckin record stores! Tell the fuckin haters to shut up! Cause it still ain\\'t No Limit I know they thought this was \"Tha Last Meal\" but they don\\'t realize it ain\\'t the last deal Snoopy It\\'s me and you baby, let\\'s toast to success! DoggHouse, No Limit, to the fuckin world man! \"Last Meal\" on that puta, you fuckin cockroaches!'"
      ]
     },
     "execution_count": 105,
     "metadata": {},
     "output_type": "execute_result"
    }
   ],
   "source": [
    "# Snoopdogg's lowest\n",
    "\n",
    "snoopdogg_lowest = lyrics[(lyrics['artist']=='snoopdogg') & (lyrics['Sentiment Score']==lyrics[lyrics['artist']=='snoopdogg']['Sentiment Score'].min())]\n",
    "display(snoopdogg_lowest)\n",
    "\n",
    "snoopdogg_lowest['lyric'].item()"
   ]
  },
  {
   "cell_type": "markdown",
   "id": "1f8334f4",
   "metadata": {
    "tags": []
   },
   "source": [
    "A: Highest is `Trash Bags` with the score of 65 while the lowest is `Back Up Off Me` with the score of -90\n",
    "\n",
    "---"
   ]
  },
  {
   "cell_type": "markdown",
   "id": "9bc02715-f93c-440a-bb09-ddcd9e4f1e1b",
   "metadata": {},
   "source": [
    "Q: Plot the distributions of the sentiment scores for both artists. You can use `seaborn` to plot densities or plot histograms in matplotlib."
   ]
  },
  {
   "cell_type": "code",
   "execution_count": 128,
   "id": "cdba569e-33aa-45b2-aaa3-3b2fc3ba4b5a",
   "metadata": {},
   "outputs": [
    {
     "data": {
      "image/png": "[encoded data removed]",
      "text/plain": [
       "<Figure size 864x576 with 1 Axes>"
      ]
     },
     "metadata": {
      "needs_background": "light"
     },
     "output_type": "display_data"
    }
   ],
   "source": [
    "fig, ax = plt.subplots(1, 1, figsize=(12, 8))\n",
    "\n",
    "sns.kdeplot(x='Sentiment Score', data=lyrics, hue='artist', fill=True)\n",
    "ax.set_title(\"Semantics Scores by Artist\", size=15)\n",
    "\n",
    "plt.show();"
   ]
  },
  {
   "cell_type": "markdown",
   "id": "b3fe644d",
   "metadata": {},
   "source": [
    "## Sentiment Analysis on Twitter Descriptions\n",
    "\n",
    "In this section, define two sets of emojis you designate as positive and negative. Make sure to have at least 10 emojis per set. You can learn about the most popular emojis on Twitter at [the emojitracker](https://emojitracker.com/). \n",
    "\n",
    "Associate your positive emojis with a score of +1, negative with -1. Score the average sentiment of your two artists based on the Twitter descriptions of their followers. The average sentiment can just be the total score divided by number of followers. "
   ]
  },
  {
   "cell_type": "code",
   "execution_count": 179,
   "id": "b4dd817e-fc27-455f-adf1-0535eaf7aa40",
   "metadata": {},
   "outputs": [],
   "source": [
    "twitter.fillna('', inplace=True)"
   ]
  },
  {
   "cell_type": "code",
   "execution_count": 180,
   "id": "1a5c1d25",
   "metadata": {},
   "outputs": [],
   "source": [
    "positive_emojis = ['\\U0001F602', '\\U0001F4AF', '\\U0001F60D', '\\U0001F61D', '\\U0001F60A',\n",
    "                   '\\U0001F618', '\\U0001F601', '\\U0001F607', '\\U0001F604', '\\U0001F609']\n",
    "\n",
    "negative_emojis = ['\\U0001F62D', '\\U0001F614', '\\U0001F629', '\\U0001F612', '\\U0001F622',\n",
    "                   '\\U0001F61E', '\\U0001F615', '\\U0001F62B', '\\U0001F620', '\\U0001F494']"
   ]
  },
  {
   "cell_type": "code",
   "execution_count": 181,
   "id": "b70b4278-f2a5-447a-8854-d6efe9dffb9a",
   "metadata": {},
   "outputs": [],
   "source": [
    "def analyze_sentiment(txt):\n",
    "    \n",
    "    txt = txt.lower()\n",
    "    score = 0\n",
    "    \n",
    "    for word in txt.strip().split(' '):\n",
    "        \n",
    "        word = word.strip()\n",
    "        \n",
    "        # Include emojis as well\n",
    "        \n",
    "        if word in scores['positive'] or word in positive_emojis:\n",
    "            score += 1\n",
    "        \n",
    "        elif word in scores['negative'] or word in negative_emojis:\n",
    "            score -= 1\n",
    "            \n",
    "    return score"
   ]
  },
  {
   "cell_type": "markdown",
   "id": "7589620f-c626-4715-b016-3a5c4a534bfa",
   "metadata": {},
   "source": [
    "Q: What is the average sentiment of your two artists? \n",
    "\n",
    "A:"
   ]
  },
  {
   "cell_type": "code",
   "execution_count": 182,
   "id": "c0422575-66c2-4116-9a25-7c15fb5bb255",
   "metadata": {},
   "outputs": [
    {
     "data": {
      "text/html": [
       "<div>\n",
       "<style scoped>\n",
       "    .dataframe tbody tr th:only-of-type {\n",
       "        vertical-align: middle;\n",
       "    }\n",
       "\n",
       "    .dataframe tbody tr th {\n",
       "        vertical-align: top;\n",
       "    }\n",
       "\n",
       "    .dataframe thead th {\n",
       "        text-align: right;\n",
       "    }\n",
       "</style>\n",
       "<table border=\"1\" class=\"dataframe\">\n",
       "  <thead>\n",
       "    <tr style=\"text-align: right;\">\n",
       "      <th></th>\n",
       "      <th>Sentiment Score</th>\n",
       "    </tr>\n",
       "    <tr>\n",
       "      <th>artist</th>\n",
       "      <th></th>\n",
       "    </tr>\n",
       "  </thead>\n",
       "  <tbody>\n",
       "    <tr>\n",
       "      <th>eminem</th>\n",
       "      <td>0.190891</td>\n",
       "    </tr>\n",
       "    <tr>\n",
       "      <th>snoopdogg</th>\n",
       "      <td>0.254376</td>\n",
       "    </tr>\n",
       "  </tbody>\n",
       "</table>\n",
       "</div>"
      ],
      "text/plain": [
       "           Sentiment Score\n",
       "artist                    \n",
       "eminem            0.190891\n",
       "snoopdogg         0.254376"
      ]
     },
     "execution_count": 182,
     "metadata": {},
     "output_type": "execute_result"
    }
   ],
   "source": [
    "twitter['Sentiment Score'] = twitter.apply(lambda x: analyze_sentiment(x['description']), axis=1)\n",
    "twitter.groupby('artist').mean()[['Sentiment Score']]"
   ]
  },
  {
   "cell_type": "markdown",
   "id": "fb92eb93",
   "metadata": {},
   "source": [
    "---\n",
    "\n",
    "Q: Which positive emoji is the most popular for each artist? Which negative emoji? "
   ]
  },
  {
   "cell_type": "code",
   "execution_count": 184,
   "id": "0515fb14-637b-423f-9467-fafac1242f27",
   "metadata": {},
   "outputs": [
    {
     "data": {
      "text/plain": [
       "((59898, 9), (59876, 9))"
      ]
     },
     "execution_count": 184,
     "metadata": {},
     "output_type": "execute_result"
    }
   ],
   "source": [
    "eminem_tweets = twitter[twitter['artist']=='eminem']\n",
    "snoopdogg_tweets = twitter[twitter['artist']=='snoopdogg']\n",
    "\n",
    "eminem_tweets.shape, snoopdogg_tweets.shape"
   ]
  },
  {
   "cell_type": "code",
   "execution_count": 217,
   "id": "d2585321-e1bc-4176-844d-af19bcd05c6b",
   "metadata": {},
   "outputs": [],
   "source": [
    "emojis_counts = pd.DataFrame()\n",
    "\n",
    "# Eminem's\n",
    "for p in positive_emojis:\n",
    "    \n",
    "    emojis_counts = pd.concat([emojis_counts, pd.DataFrame({\n",
    "        'artist':'eminem',\n",
    "        'emoji':p,\n",
    "        'sentiment':'positive',\n",
    "        'count':eminem_tweets['description'].str.count(p).sum()\n",
    "    }, index=[0])], ignore_index=True)\n",
    "    \n",
    "for p in negative_emojis:\n",
    "    \n",
    "    emojis_counts = pd.concat([emojis_counts, pd.DataFrame({\n",
    "        'artist':'eminem',\n",
    "        'emoji':p,\n",
    "        'sentiment':'negative',\n",
    "        'count':eminem_tweets['description'].str.count(p).sum()\n",
    "    }, index=[0])], ignore_index=True)\n",
    "    \n",
    "# Snoopdogg's\n",
    "for p in positive_emojis:\n",
    "    \n",
    "    emojis_counts = pd.concat([emojis_counts, pd.DataFrame({\n",
    "        'artist':'snoopdogg',\n",
    "        'emoji':p,\n",
    "        'sentiment':'positive',\n",
    "        'count':snoopdogg_tweets['description'].str.count(p).sum()\n",
    "    }, index=[0])], ignore_index=True)\n",
    "    \n",
    "for p in negative_emojis:\n",
    "    \n",
    "    emojis_counts = pd.concat([emojis_counts, pd.DataFrame({\n",
    "        'artist':'snoopdogg',\n",
    "        'emoji':p,\n",
    "        'sentiment':'negative',\n",
    "        'count':snoopdogg_tweets['description'].str.count(p).sum()\n",
    "    }, index=[0])], ignore_index=True)"
   ]
  },
  {
   "cell_type": "code",
   "execution_count": 218,
   "id": "b020ab3c-7307-4dcc-90c5-b50d98f25bd7",
   "metadata": {},
   "outputs": [
    {
     "data": {
      "text/html": [
       "<div>\n",
       "<style scoped>\n",
       "    .dataframe tbody tr th:only-of-type {\n",
       "        vertical-align: middle;\n",
       "    }\n",
       "\n",
       "    .dataframe tbody tr th {\n",
       "        vertical-align: top;\n",
       "    }\n",
       "\n",
       "    .dataframe thead th {\n",
       "        text-align: right;\n",
       "    }\n",
       "</style>\n",
       "<table border=\"1\" class=\"dataframe\">\n",
       "  <thead>\n",
       "    <tr style=\"text-align: right;\">\n",
       "      <th></th>\n",
       "      <th>artist</th>\n",
       "      <th>emoji</th>\n",
       "      <th>sentiment</th>\n",
       "      <th>count</th>\n",
       "    </tr>\n",
       "  </thead>\n",
       "  <tbody>\n",
       "    <tr>\n",
       "      <th>21</th>\n",
       "      <td>snoopdogg</td>\n",
       "      <td>💯</td>\n",
       "      <td>positive</td>\n",
       "      <td>466</td>\n",
       "    </tr>\n",
       "    <tr>\n",
       "      <th>1</th>\n",
       "      <td>eminem</td>\n",
       "      <td>💯</td>\n",
       "      <td>positive</td>\n",
       "      <td>405</td>\n",
       "    </tr>\n",
       "    <tr>\n",
       "      <th>39</th>\n",
       "      <td>snoopdogg</td>\n",
       "      <td>💔</td>\n",
       "      <td>negative</td>\n",
       "      <td>98</td>\n",
       "    </tr>\n",
       "    <tr>\n",
       "      <th>19</th>\n",
       "      <td>eminem</td>\n",
       "      <td>💔</td>\n",
       "      <td>negative</td>\n",
       "      <td>80</td>\n",
       "    </tr>\n",
       "  </tbody>\n",
       "</table>\n",
       "</div>"
      ],
      "text/plain": [
       "       artist emoji sentiment  count\n",
       "21  snoopdogg     💯  positive    466\n",
       "1      eminem     💯  positive    405\n",
       "39  snoopdogg     💔  negative     98\n",
       "19     eminem     💔  negative     80"
      ]
     },
     "execution_count": 218,
     "metadata": {},
     "output_type": "execute_result"
    }
   ],
   "source": [
    "emojis_counts.sort_values('count', ascending=False).groupby(['artist', 'sentiment']).head(1)"
   ]
  },
  {
   "cell_type": "markdown",
   "id": "08f811fd-28ce-4baa-b606-77040e0da925",
   "metadata": {},
   "source": [
    "A: As it can be seen, they both have the same emojis for both positive and negative sentiments though the counts are slightly different."
   ]
  }
 ],
 "metadata": {
  "kernelspec": {
   "display_name": "Python 3 (ipykernel)",
   "language": "python",
   "name": "python3"
  },
  "language_info": {
   "codemirror_mode": {
    "name": "ipython",
    "version": 3
   },
   "file_extension": ".py",
   "mimetype": "text/x-python",
   "name": "python",
   "nbconvert_exporter": "python",
   "pygments_lexer": "ipython3",
   "version": "3.9.6"
  }
 },
 "nbformat": 4,
 "nbformat_minor": 5
}
